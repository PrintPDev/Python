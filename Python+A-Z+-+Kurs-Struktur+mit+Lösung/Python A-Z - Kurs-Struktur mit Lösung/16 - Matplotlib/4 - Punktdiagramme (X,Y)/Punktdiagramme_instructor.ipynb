{
 "cells": [
  {
   "cell_type": "markdown",
   "metadata": {},
   "source": [
    "## Daten visualisieren mit Punktdiagramme (X,Y)"
   ]
  },
  {
   "cell_type": "code",
   "execution_count": 24,
   "metadata": {},
   "outputs": [],
   "source": [
    "import numpy as np\n",
    "import pandas as pd\n",
    "\n",
    "%matplotlib inline\n",
    "import matplotlib\n",
    "import matplotlib.pyplot as plt"
   ]
  },
  {
   "cell_type": "code",
   "execution_count": 25,
   "metadata": {},
   "outputs": [
    {
     "data": {
      "text/html": [
       "<div>\n",
       "<style scoped>\n",
       "    .dataframe tbody tr th:only-of-type {\n",
       "        vertical-align: middle;\n",
       "    }\n",
       "\n",
       "    .dataframe tbody tr th {\n",
       "        vertical-align: top;\n",
       "    }\n",
       "\n",
       "    .dataframe thead th {\n",
       "        text-align: right;\n",
       "    }\n",
       "</style>\n",
       "<table border=\"1\" class=\"dataframe\">\n",
       "  <thead>\n",
       "    <tr style=\"text-align: right;\">\n",
       "      <th></th>\n",
       "      <th>seller</th>\n",
       "      <th>price</th>\n",
       "      <th>vehicleType</th>\n",
       "      <th>yearOfRegistration</th>\n",
       "      <th>gearbox</th>\n",
       "      <th>powerPS</th>\n",
       "      <th>model</th>\n",
       "      <th>kilometer</th>\n",
       "      <th>fuelType</th>\n",
       "      <th>brand</th>\n",
       "      <th>dateCreated</th>\n",
       "      <th>postalCode</th>\n",
       "    </tr>\n",
       "  </thead>\n",
       "  <tbody>\n",
       "    <tr>\n",
       "      <td>0</td>\n",
       "      <td>privat</td>\n",
       "      <td>480</td>\n",
       "      <td>NaN</td>\n",
       "      <td>1993</td>\n",
       "      <td>manuell</td>\n",
       "      <td>0</td>\n",
       "      <td>golf</td>\n",
       "      <td>150000</td>\n",
       "      <td>benzin</td>\n",
       "      <td>volkswagen</td>\n",
       "      <td>2016-03-24 00:00:00</td>\n",
       "      <td>70435</td>\n",
       "    </tr>\n",
       "    <tr>\n",
       "      <td>1</td>\n",
       "      <td>privat</td>\n",
       "      <td>18300</td>\n",
       "      <td>coupe</td>\n",
       "      <td>2011</td>\n",
       "      <td>manuell</td>\n",
       "      <td>190</td>\n",
       "      <td>NaN</td>\n",
       "      <td>125000</td>\n",
       "      <td>diesel</td>\n",
       "      <td>audi</td>\n",
       "      <td>2016-03-24 00:00:00</td>\n",
       "      <td>66954</td>\n",
       "    </tr>\n",
       "    <tr>\n",
       "      <td>2</td>\n",
       "      <td>privat</td>\n",
       "      <td>9800</td>\n",
       "      <td>suv</td>\n",
       "      <td>2004</td>\n",
       "      <td>automatik</td>\n",
       "      <td>163</td>\n",
       "      <td>grand</td>\n",
       "      <td>125000</td>\n",
       "      <td>diesel</td>\n",
       "      <td>jeep</td>\n",
       "      <td>2016-03-14 00:00:00</td>\n",
       "      <td>90480</td>\n",
       "    </tr>\n",
       "    <tr>\n",
       "      <td>3</td>\n",
       "      <td>privat</td>\n",
       "      <td>1500</td>\n",
       "      <td>kleinwagen</td>\n",
       "      <td>2001</td>\n",
       "      <td>manuell</td>\n",
       "      <td>75</td>\n",
       "      <td>golf</td>\n",
       "      <td>150000</td>\n",
       "      <td>benzin</td>\n",
       "      <td>volkswagen</td>\n",
       "      <td>2016-03-17 00:00:00</td>\n",
       "      <td>91074</td>\n",
       "    </tr>\n",
       "    <tr>\n",
       "      <td>4</td>\n",
       "      <td>privat</td>\n",
       "      <td>3600</td>\n",
       "      <td>kleinwagen</td>\n",
       "      <td>2008</td>\n",
       "      <td>manuell</td>\n",
       "      <td>69</td>\n",
       "      <td>fabia</td>\n",
       "      <td>90000</td>\n",
       "      <td>diesel</td>\n",
       "      <td>skoda</td>\n",
       "      <td>2016-03-31 00:00:00</td>\n",
       "      <td>60437</td>\n",
       "    </tr>\n",
       "  </tbody>\n",
       "</table>\n",
       "</div>"
      ],
      "text/plain": [
       "   seller  price vehicleType  yearOfRegistration    gearbox  powerPS  model  \\\n",
       "0  privat    480         NaN                1993    manuell        0   golf   \n",
       "1  privat  18300       coupe                2011    manuell      190    NaN   \n",
       "2  privat   9800         suv                2004  automatik      163  grand   \n",
       "3  privat   1500  kleinwagen                2001    manuell       75   golf   \n",
       "4  privat   3600  kleinwagen                2008    manuell       69  fabia   \n",
       "\n",
       "   kilometer fuelType       brand          dateCreated  postalCode  \n",
       "0     150000   benzin  volkswagen  2016-03-24 00:00:00       70435  \n",
       "1     125000   diesel        audi  2016-03-24 00:00:00       66954  \n",
       "2     125000   diesel        jeep  2016-03-14 00:00:00       90480  \n",
       "3     150000   benzin  volkswagen  2016-03-17 00:00:00       91074  \n",
       "4      90000   diesel       skoda  2016-03-31 00:00:00       60437  "
      ]
     },
     "execution_count": 25,
     "metadata": {},
     "output_type": "execute_result"
    }
   ],
   "source": [
    "X = pd.read_csv('autos_stripped.csv', header=0, index_col=0, encoding='ISO-8859-1')\n",
    "X.head()"
   ]
  },
  {
   "cell_type": "code",
   "execution_count": 26,
   "metadata": {},
   "outputs": [
    {
     "data": {
      "text/plain": [
       "0        40820\n",
       "1           34\n",
       "2           10\n",
       "3            9\n",
       "4           30\n",
       "         ...  \n",
       "17932        1\n",
       "19208        1\n",
       "19211        1\n",
       "19312        1\n",
       "20000        1\n",
       "Name: powerPS, Length: 794, dtype: int64"
      ]
     },
     "execution_count": 26,
     "metadata": {},
     "output_type": "execute_result"
    }
   ],
   "source": [
    "number_ps = X.powerPS.value_counts().sort_index()\n",
    "number_ps"
   ]
  },
  {
   "cell_type": "code",
   "execution_count": 27,
   "metadata": {},
   "outputs": [
    {
     "data": {
      "text/plain": [
       "101     13313\n",
       "102      6500\n",
       "103       988\n",
       "104       141\n",
       "105     10429\n",
       "        ...  \n",
       "1405        1\n",
       "1416        1\n",
       "1432        1\n",
       "1433        1\n",
       "1436        1\n",
       "Name: powerPS, Length: 534, dtype: int64"
      ]
     },
     "execution_count": 27,
     "metadata": {},
     "output_type": "execute_result"
    }
   ],
   "source": [
    "number_ps = number_ps[ (number_ps.index > 100) & (number_ps.index < 1500) ]\n",
    "number_ps"
   ]
  },
  {
   "cell_type": "code",
   "execution_count": 28,
   "metadata": {},
   "outputs": [],
   "source": [
    "x = number_ps.index\n",
    "y = number_ps.values"
   ]
  },
  {
   "cell_type": "code",
   "execution_count": 29,
   "metadata": {},
   "outputs": [
    {
     "data": {
      "text/plain": [
       "array([13313,  6500,   988,   141, 10429,   433,  1365,   169,  4817,\n",
       "        4862,   551,   194,   939,   949,  3332, 11963,   215,  1250,\n",
       "          50,  3914,   373,  5322,    32,   225,  7051,   532,    31,\n",
       "         415,  1495,   921,  5179,   454,   657,    60,   865,  6952,\n",
       "          82,    52,   288, 13585,   726,    81,  5547,   694,  1021,\n",
       "         150,  1197,    92,    59, 15442,   233,   106,     8,    66,\n",
       "         977,   974,    28,   206,    15,  2567,    33,    44,  6287,\n",
       "          67,   931,   248,   105,    31,   121, 10982,   121,    33,\n",
       "         210,  1399,   397,    54,  3886,   102,  2506,   806,    43,\n",
       "         109,    29,  2729,   644,    59,    14,    89,    41,  1719,\n",
       "          22,  1600,  2635,   188,    39,    76,  1191,    42,    49,\n",
       "        2221,    94,     7,   118,  2462,   199,    13,   222,    45,\n",
       "         190,    98,  1292,    49,    47,    13,    92,    23,    15,\n",
       "        2408,    13,   806,     5,    30,    53,  2267,   138,   184,\n",
       "          12,    40,     3,   500,  2310,   736,    61,    42,   814,\n",
       "          11,    27,   108,  1051,   148,   335,    10,    27,     4,\n",
       "        1134,     8,    19,     4,    40,   939,     2,    82,    15,\n",
       "          27,    11,   193,     5,   453,     9,   259,     5,    15,\n",
       "          45,   723,    12,     3,    17,    13,    50,   107,   920,\n",
       "          27,     9,   113,    24,    17,    14,   212,   326,    11,\n",
       "           1,    11,    42,    19,   809,    13,     7,     8,    85,\n",
       "         111,     2,     3,    81,     9,     1,    29,   273,   420,\n",
       "          13,    14,     5,   122,  1131,     6,     3,    25,   147,\n",
       "          13,     1,   271,    21,    62,     3,     7,     8,     1,\n",
       "         284,    33,    18,     1,     9,   113,   234,     5,    24,\n",
       "          27,    74,     1,     1,   276,    88,    12,     3,     1,\n",
       "           4,     1,   354,     6,    80,   114,    80,     3,    35,\n",
       "           2,   112,    46,    13,     4,     2,   117,   114,     2,\n",
       "           3,     3,     1,   113,     1,     4,    16,    12,     6,\n",
       "           1,   112,     7,    14,     8,     2,     4,    12,     2,\n",
       "           5,    19,    19,    34,     7,     2,   105,     7,   191,\n",
       "          17,    19,     3,    19,    27,     1,     5,     4,   149,\n",
       "          10,     2,    12,    30,     2,   112,    11,     5,     5,\n",
       "           7,     1,   164,    12,     3,     1,     1,     9,     3,\n",
       "          20,    21,     8,     1,    75,    17,     6,     4,     5,\n",
       "           1,     2,    12,    10,   139,     1,     1,     6,    51,\n",
       "           1,     7,     1,     4,     1,     2,     1,     2,    58,\n",
       "           1,    29,     2,     2,     8,    20,     9,     1,     2,\n",
       "           2,   123,     1,     1,     4,     2,     7,    53,     1,\n",
       "          27,     1,    22,     3,    11,     1,     6,     3,     9,\n",
       "          50,     1,     2,     8,     1,     9,     1,     3,     1,\n",
       "           1,     5,     3,    18,     1,     6,     9,     2,    22,\n",
       "           1,    10,    10,     2,     2,     3,    18,     5,     1,\n",
       "           1,     1,     1,    11,     1,     1,     2,    14,     3,\n",
       "           1,     5,     2,     3,     1,     6,     9,     1,     8,\n",
       "           4,     2,     2,     2,     1,     1,     1,     1,     7,\n",
       "           1,     2,     1,     1,     1,     1,     1,     1,     3,\n",
       "           1,     1,     1,     1,     5,     2,     1,     1,     1,\n",
       "           1,     1,     1,     1,     4,     6,     1,     1,     1,\n",
       "           1,     2,     3,     1,     1,     1,     2,     2,     1,\n",
       "           1,     4,     1,     1,     1,     1,     2,     1,     3,\n",
       "           1,     1,     1,     1,     1,     5,     8,     6,     1,\n",
       "           2,     1,     2,     3,     1,     2,     1,     2,     1,\n",
       "           1,     1,     1,     1,     1,     1,     1,     1,     1,\n",
       "           2,     1,     1,     1,     1,     1,     1,     1,     1,\n",
       "           1,     1,     1,     2,     1,     1,     1,     1,     1,\n",
       "           1,     1,     2,     1,     1,     1,     1,     1,     3,\n",
       "           1,     1,     1,     1,     1,     1,     1,     2,     1,\n",
       "           2,     1,     1,     2,     7,     2,     2,     1,     1,\n",
       "           1,     1,     1], dtype=int64)"
      ]
     },
     "execution_count": 29,
     "metadata": {},
     "output_type": "execute_result"
    }
   ],
   "source": [
    "area = y\n",
    "colors = (30 * y) ** 2\n",
    "area"
   ]
  },
  {
   "cell_type": "code",
   "execution_count": 30,
   "metadata": {
    "scrolled": true
   },
   "outputs": [
    {
     "data": {
      "image/png": "[encoded data removed]",
      "text/plain": [
       "<Figure size 432x288 with 1 Axes>"
      ]
     },
     "metadata": {
      "needs_background": "light"
     },
     "output_type": "display_data"
    }
   ],
   "source": [
    "plt.scatter(x, y, s=area, c=colors, alpha=0.5)\n",
    "plt.xlabel(\"PS\")\n",
    "plt.ylabel(\"#Fahrzeuge\")\n",
    "plt.show()"
   ]
  }
 ],
 "metadata": {
  "kernelspec": {
   "display_name": "Python 3",
   "language": "python",
   "name": "python3"
  },
  "language_info": {
   "codemirror_mode": {
    "name": "ipython",
    "version": 3
   },
   "file_extension": ".py",
   "mimetype": "text/x-python",
   "name": "python",
   "nbconvert_exporter": "python",
   "pygments_lexer": "ipython3",
   "version": "3.6.8"
  }
 },
 "nbformat": 4,
 "nbformat_minor": 2
}
